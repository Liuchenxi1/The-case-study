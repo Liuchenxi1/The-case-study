{
 "cells": [
  {
   "cell_type": "code",
   "execution_count": 1,
   "id": "5a3ffbbf",
   "metadata": {},
   "outputs": [],
   "source": [
    "import pandas as pd\n",
    "import numpy as np\n",
    "import csv"
   ]
  },
  {
   "cell_type": "code",
   "execution_count": 2,
   "id": "a41bd6c3",
   "metadata": {
    "scrolled": true
   },
   "outputs": [],
   "source": [
    "pa = pd.read_excel('C:/Users/shinn/Desktop/case study/Analyst_Case_Study.xlsx',sheet_name = 'Data', index_col=None, header=0)"
   ]
  },
  {
   "cell_type": "code",
   "execution_count": 3,
   "id": "fb6fc0e4",
   "metadata": {},
   "outputs": [],
   "source": [
    "def fix_columns(column_list):\n",
    "    new_cols =[]\n",
    "    for col in column_list:\n",
    "        col = col.lower()\n",
    "        new_cols.append(col)\n",
    "    \n",
    "    return new_cols "
   ]
  },
  {
   "cell_type": "code",
   "execution_count": 4,
   "id": "e38a0b1f",
   "metadata": {},
   "outputs": [],
   "source": [
    "pa.columns = fix_columns(pa.columns)"
   ]
  },
  {
   "cell_type": "code",
   "execution_count": 5,
   "id": "42a52883",
   "metadata": {},
   "outputs": [
    {
     "data": {
      "text/html": [
       "<div>\n",
       "<style scoped>\n",
       "    .dataframe tbody tr th:only-of-type {\n",
       "        vertical-align: middle;\n",
       "    }\n",
       "\n",
       "    .dataframe tbody tr th {\n",
       "        vertical-align: top;\n",
       "    }\n",
       "\n",
       "    .dataframe thead th {\n",
       "        text-align: right;\n",
       "    }\n",
       "</style>\n",
       "<table border=\"1\" class=\"dataframe\">\n",
       "  <thead>\n",
       "    <tr style=\"text-align: right;\">\n",
       "      <th></th>\n",
       "      <th>date</th>\n",
       "      <th>line</th>\n",
       "      <th>major line</th>\n",
       "      <th>state</th>\n",
       "      <th>work order</th>\n",
       "      <th>sales</th>\n",
       "      <th>employeeid</th>\n",
       "      <th>employee</th>\n",
       "      <th>position</th>\n",
       "    </tr>\n",
       "  </thead>\n",
       "  <tbody>\n",
       "    <tr>\n",
       "      <th>0</th>\n",
       "      <td>2022-07-12</td>\n",
       "      <td>Tire Services</td>\n",
       "      <td>Tire Services</td>\n",
       "      <td>PA</td>\n",
       "      <td>83391</td>\n",
       "      <td>70</td>\n",
       "      <td>20023379</td>\n",
       "      <td>Ryan Howard</td>\n",
       "      <td>MS1</td>\n",
       "    </tr>\n",
       "    <tr>\n",
       "      <th>1</th>\n",
       "      <td>2022-07-13</td>\n",
       "      <td>Batteries</td>\n",
       "      <td>Batteries</td>\n",
       "      <td>PA</td>\n",
       "      <td>83612</td>\n",
       "      <td>338</td>\n",
       "      <td>20023379</td>\n",
       "      <td>Ryan Howard</td>\n",
       "      <td>MS1</td>\n",
       "    </tr>\n",
       "    <tr>\n",
       "      <th>2</th>\n",
       "      <td>2022-07-13</td>\n",
       "      <td>Oil</td>\n",
       "      <td>Oil</td>\n",
       "      <td>PA</td>\n",
       "      <td>83518</td>\n",
       "      <td>126</td>\n",
       "      <td>20023379</td>\n",
       "      <td>Ryan Howard</td>\n",
       "      <td>MS1</td>\n",
       "    </tr>\n",
       "    <tr>\n",
       "      <th>3</th>\n",
       "      <td>2022-07-15</td>\n",
       "      <td>Oil</td>\n",
       "      <td>Oil</td>\n",
       "      <td>PA</td>\n",
       "      <td>84591</td>\n",
       "      <td>126</td>\n",
       "      <td>20023379</td>\n",
       "      <td>Ryan Howard</td>\n",
       "      <td>MS1</td>\n",
       "    </tr>\n",
       "    <tr>\n",
       "      <th>4</th>\n",
       "      <td>2022-07-15</td>\n",
       "      <td>Oil</td>\n",
       "      <td>Oil</td>\n",
       "      <td>PA</td>\n",
       "      <td>85020</td>\n",
       "      <td>82</td>\n",
       "      <td>20023379</td>\n",
       "      <td>Ryan Howard</td>\n",
       "      <td>MS1</td>\n",
       "    </tr>\n",
       "    <tr>\n",
       "      <th>...</th>\n",
       "      <td>...</td>\n",
       "      <td>...</td>\n",
       "      <td>...</td>\n",
       "      <td>...</td>\n",
       "      <td>...</td>\n",
       "      <td>...</td>\n",
       "      <td>...</td>\n",
       "      <td>...</td>\n",
       "      <td>...</td>\n",
       "    </tr>\n",
       "    <tr>\n",
       "      <th>4389</th>\n",
       "      <td>2022-11-22</td>\n",
       "      <td>Oil</td>\n",
       "      <td>Oil</td>\n",
       "      <td>PA</td>\n",
       "      <td>125655</td>\n",
       "      <td>94</td>\n",
       "      <td>20013466</td>\n",
       "      <td>Creed Bratton</td>\n",
       "      <td>Apprentice</td>\n",
       "    </tr>\n",
       "    <tr>\n",
       "      <th>4390</th>\n",
       "      <td>2022-11-22</td>\n",
       "      <td>Tire Services</td>\n",
       "      <td>Tire Services</td>\n",
       "      <td>PA</td>\n",
       "      <td>125655</td>\n",
       "      <td>17</td>\n",
       "      <td>20013466</td>\n",
       "      <td>Creed Bratton</td>\n",
       "      <td>Apprentice</td>\n",
       "    </tr>\n",
       "    <tr>\n",
       "      <th>4391</th>\n",
       "      <td>2022-11-23</td>\n",
       "      <td>Oil</td>\n",
       "      <td>Oil</td>\n",
       "      <td>PA</td>\n",
       "      <td>125979</td>\n",
       "      <td>95</td>\n",
       "      <td>20013466</td>\n",
       "      <td>Creed Bratton</td>\n",
       "      <td>Apprentice</td>\n",
       "    </tr>\n",
       "    <tr>\n",
       "      <th>4392</th>\n",
       "      <td>2022-11-28</td>\n",
       "      <td>Batteries</td>\n",
       "      <td>Batteries</td>\n",
       "      <td>PA</td>\n",
       "      <td>126783</td>\n",
       "      <td>258</td>\n",
       "      <td>20013466</td>\n",
       "      <td>Creed Bratton</td>\n",
       "      <td>Apprentice</td>\n",
       "    </tr>\n",
       "    <tr>\n",
       "      <th>4393</th>\n",
       "      <td>2022-11-28</td>\n",
       "      <td>Misc Parts</td>\n",
       "      <td>Parts</td>\n",
       "      <td>PA</td>\n",
       "      <td>126783</td>\n",
       "      <td>295</td>\n",
       "      <td>20013466</td>\n",
       "      <td>Creed Bratton</td>\n",
       "      <td>Apprentice</td>\n",
       "    </tr>\n",
       "  </tbody>\n",
       "</table>\n",
       "<p>4394 rows × 9 columns</p>\n",
       "</div>"
      ],
      "text/plain": [
       "           date           line     major line state  work order  sales  \\\n",
       "0    2022-07-12  Tire Services  Tire Services    PA       83391     70   \n",
       "1    2022-07-13      Batteries      Batteries    PA       83612    338   \n",
       "2    2022-07-13            Oil            Oil    PA       83518    126   \n",
       "3    2022-07-15            Oil            Oil    PA       84591    126   \n",
       "4    2022-07-15            Oil            Oil    PA       85020     82   \n",
       "...         ...            ...            ...   ...         ...    ...   \n",
       "4389 2022-11-22            Oil            Oil    PA      125655     94   \n",
       "4390 2022-11-22  Tire Services  Tire Services    PA      125655     17   \n",
       "4391 2022-11-23            Oil            Oil    PA      125979     95   \n",
       "4392 2022-11-28      Batteries      Batteries    PA      126783    258   \n",
       "4393 2022-11-28     Misc Parts          Parts    PA      126783    295   \n",
       "\n",
       "      employeeid       employee    position  \n",
       "0       20023379    Ryan Howard         MS1  \n",
       "1       20023379    Ryan Howard         MS1  \n",
       "2       20023379    Ryan Howard         MS1  \n",
       "3       20023379    Ryan Howard         MS1  \n",
       "4       20023379    Ryan Howard         MS1  \n",
       "...          ...            ...         ...  \n",
       "4389    20013466  Creed Bratton  Apprentice  \n",
       "4390    20013466  Creed Bratton  Apprentice  \n",
       "4391    20013466  Creed Bratton  Apprentice  \n",
       "4392    20013466  Creed Bratton  Apprentice  \n",
       "4393    20013466  Creed Bratton  Apprentice  \n",
       "\n",
       "[4394 rows x 9 columns]"
      ]
     },
     "execution_count": 5,
     "metadata": {},
     "output_type": "execute_result"
    }
   ],
   "source": [
    "pa"
   ]
  },
  {
   "cell_type": "code",
   "execution_count": 6,
   "id": "91b3e227",
   "metadata": {},
   "outputs": [
    {
     "data": {
      "text/plain": [
       "date          datetime64[ns]\n",
       "line                  object\n",
       "major line            object\n",
       "state                 object\n",
       "work order             int64\n",
       "sales                  int64\n",
       "employeeid             int64\n",
       "employee              object\n",
       "position              object\n",
       "dtype: object"
      ]
     },
     "execution_count": 6,
     "metadata": {},
     "output_type": "execute_result"
    }
   ],
   "source": [
    "pa.dtypes"
   ]
  },
  {
   "cell_type": "markdown",
   "id": "e4d00081",
   "metadata": {},
   "source": [
    "# Find which emloyee worked the most orders"
   ]
  },
  {
   "cell_type": "code",
   "execution_count": 7,
   "id": "2c2c3767",
   "metadata": {
    "scrolled": true
   },
   "outputs": [
    {
     "data": {
      "text/plain": [
       "array(['Ryan Howard', 'Andy Bernard', 'Roy Anderson', 'Kelly Kapoor',\n",
       "       'Kevin Malone', 'Charles Minor', 'Michael Scott', 'Angela Martin',\n",
       "       'Erin Hannon', 'Darryl Philbin', 'Karen Filippelli', 'Jim Halpert',\n",
       "       'Jan Levinson', 'Meredith Palmer', 'Oscar Martinez',\n",
       "       'Stanley Hudson', 'Creed Bratton'], dtype=object)"
      ]
     },
     "execution_count": 7,
     "metadata": {},
     "output_type": "execute_result"
    }
   ],
   "source": [
    "pa['employee'].unique()"
   ]
  },
  {
   "cell_type": "code",
   "execution_count": 8,
   "id": "64800573",
   "metadata": {
    "scrolled": true
   },
   "outputs": [
    {
     "data": {
      "text/plain": [
       "employee\n",
       "Michael Scott       296\n",
       "Stanley Hudson      293\n",
       "Jan Levinson        272\n",
       "Andy Bernard        254\n",
       "Jim Halpert         242\n",
       "Kevin Malone        213\n",
       "Angela Martin       187\n",
       "Erin Hannon         102\n",
       "Meredith Palmer      85\n",
       "Ryan Howard          85\n",
       "Karen Filippelli     81\n",
       "Oscar Martinez       77\n",
       "Roy Anderson         64\n",
       "Darryl Philbin       61\n",
       "Kelly Kapoor         55\n",
       "Creed Bratton        37\n",
       "Charles Minor        32\n",
       "Name: work order, dtype: int64"
      ]
     },
     "execution_count": 8,
     "metadata": {},
     "output_type": "execute_result"
    }
   ],
   "source": [
    "worked = pa.groupby('employee')['work order'].nunique()\n",
    "worked.sort_values(ascending = [False])\n",
    "#graph1"
   ]
  },
  {
   "cell_type": "code",
   "execution_count": 9,
   "id": "5a67cec1",
   "metadata": {},
   "outputs": [
    {
     "data": {
      "text/plain": [
       "employee\n",
       "Charles Minor    16\n",
       "Creed Bratton    21\n",
       "Kelly Kapoor     24\n",
       "Name: date, dtype: int64"
      ]
     },
     "execution_count": 9,
     "metadata": {},
     "output_type": "execute_result"
    }
   ],
   "source": [
    "##这些最低的员工是不是跟最高的员工做的一样的事？ 为啥他们做的order这么低？？\n",
    "low3 = pa[(pa['employee'] == 'Kelly Kapoor') | (pa['employee'] == 'Creed Bratton') | (pa['employee'] == 'Charles Minor')]\n",
    "low3.groupby('employee')['date'].nunique()"
   ]
  },
  {
   "cell_type": "code",
   "execution_count": 10,
   "id": "5d8b7fe6",
   "metadata": {},
   "outputs": [
    {
     "data": {
      "text/plain": [
       "employee\n",
       "Stanley Hudson      101\n",
       "Jan Levinson         92\n",
       "Michael Scott        88\n",
       "Andy Bernard         83\n",
       "Kevin Malone         77\n",
       "Jim Halpert          75\n",
       "Angela Martin        70\n",
       "Erin Hannon          38\n",
       "Ryan Howard          35\n",
       "Oscar Martinez       31\n",
       "Darryl Philbin       29\n",
       "Karen Filippelli     28\n",
       "Meredith Palmer      26\n",
       "Kelly Kapoor         24\n",
       "Roy Anderson         23\n",
       "Creed Bratton        21\n",
       "Charles Minor        16\n",
       "Name: date, dtype: int64"
      ]
     },
     "execution_count": 10,
     "metadata": {},
     "output_type": "execute_result"
    }
   ],
   "source": [
    "# the dates showed up to work\n",
    "\n",
    "showed = pa.groupby('employee')['date'].nunique()\n",
    "showed.sort_values(ascending = [False])"
   ]
  },
  {
   "cell_type": "markdown",
   "id": "27a96f89",
   "metadata": {},
   "source": [
    "# Find emloyee worked order values by sum"
   ]
  },
  {
   "cell_type": "code",
   "execution_count": 11,
   "id": "04d30071",
   "metadata": {
    "scrolled": true
   },
   "outputs": [
    {
     "data": {
      "text/plain": [
       "employee\n",
       "Stanley Hudson      98298\n",
       "Jim Halpert         70653\n",
       "Michael Scott       67755\n",
       "Jan Levinson        56352\n",
       "Andy Bernard        51016\n",
       "Kevin Malone        49512\n",
       "Angela Martin       35152\n",
       "Karen Filippelli    21097\n",
       "Meredith Palmer     18477\n",
       "Oscar Martinez      17825\n",
       "Erin Hannon         14051\n",
       "Kelly Kapoor        13876\n",
       "Ryan Howard         13030\n",
       "Darryl Philbin      11670\n",
       "Roy Anderson        10962\n",
       "Creed Bratton        6074\n",
       "Charles Minor        5774\n",
       "Name: sales, dtype: int64"
      ]
     },
     "execution_count": 11,
     "metadata": {},
     "output_type": "execute_result"
    }
   ],
   "source": [
    "sales = pa.groupby('employee')['sales'].sum()\n",
    "sales.sort_values(ascending = [False])\n",
    "#graph2"
   ]
  },
  {
   "cell_type": "markdown",
   "id": "110326ba",
   "metadata": {},
   "source": [
    "# Find the most value employee by using sames/orders"
   ]
  },
  {
   "cell_type": "code",
   "execution_count": 12,
   "id": "f3908c9c",
   "metadata": {
    "scrolled": true
   },
   "outputs": [
    {
     "data": {
      "text/plain": [
       "employee\n",
       "Stanley Hudson      335.49\n",
       "Jim Halpert         291.95\n",
       "Karen Filippelli    260.46\n",
       "Kelly Kapoor        252.29\n",
       "Kevin Malone        232.45\n",
       "Oscar Martinez      231.49\n",
       "Michael Scott       228.90\n",
       "Meredith Palmer     217.38\n",
       "Jan Levinson        207.18\n",
       "Andy Bernard        200.85\n",
       "Darryl Philbin      191.31\n",
       "Angela Martin       187.98\n",
       "Charles Minor       180.44\n",
       "Roy Anderson        171.28\n",
       "Creed Bratton       164.16\n",
       "Ryan Howard         153.29\n",
       "Erin Hannon         137.75\n",
       "dtype: float64"
      ]
     },
     "execution_count": 12,
     "metadata": {},
     "output_type": "execute_result"
    }
   ],
   "source": [
    "best_sales_emoplyee = sales/worked\n",
    "best_sales_emoplyee.sort_values(ascending = [False]).round(2)\n",
    "#Michael Scott worked the most orders but doesn't have the most valuable sales\n",
    "#Stanley Hudson is the winner!"
   ]
  },
  {
   "cell_type": "code",
   "execution_count": 13,
   "id": "3691324e",
   "metadata": {
    "scrolled": true
   },
   "outputs": [
    {
     "data": {
      "text/plain": [
       "Tire Services    399\n",
       "Tires            332\n",
       "Oil              254\n",
       "Parts            132\n",
       "Batteries         55\n",
       "Inspections       54\n",
       "Misc Service      44\n",
       "Brakes            33\n",
       "Name: major line, dtype: int64"
      ]
     },
     "execution_count": 13,
     "metadata": {},
     "output_type": "execute_result"
    }
   ],
   "source": [
    "#What kind of orders that top3 did it by using 'major line'\n",
    "top3 = pa[(pa['employee'] == 'Stanley Hudson') | (pa['employee'] == 'Jim Halpert') | (pa['employee'] == 'Karen Filippelli')]\n",
    "top3['major line'].value_counts()"
   ]
  },
  {
   "cell_type": "code",
   "execution_count": 14,
   "id": "82b5e65e",
   "metadata": {},
   "outputs": [
    {
     "data": {
      "text/plain": [
       "Oil              189\n",
       "Batteries         61\n",
       "Tire Services     43\n",
       "Parts             23\n",
       "Brakes            10\n",
       "Inspections        8\n",
       "Misc Service       8\n",
       "Tires              2\n",
       "Name: major line, dtype: int64"
      ]
     },
     "execution_count": 14,
     "metadata": {},
     "output_type": "execute_result"
    }
   ],
   "source": [
    "low3 = pa[(pa['employee'] == 'Ryan Howard') | (pa['employee'] == 'Creed Bratton') | (pa['employee'] == 'Erin Hannon')]\n",
    "low3['major line'].value_counts()"
   ]
  },
  {
   "cell_type": "code",
   "execution_count": 15,
   "id": "eb87e527",
   "metadata": {},
   "outputs": [
    {
     "data": {
      "text/plain": [
       "line\n",
       "House Brand      211877\n",
       "Batteries         81755\n",
       "Oil               81535\n",
       "Tire Services     64967\n",
       "Brakes            49720\n",
       "Off Brand         44689\n",
       "Filters            8498\n",
       "Inspections        4944\n",
       "Misc Parts         4184\n",
       "Generic            4083\n",
       "Wipers             3448\n",
       "Oil Filters        1351\n",
       "Misc Services       523\n",
       "Name: sales, dtype: int64"
      ]
     },
     "execution_count": 15,
     "metadata": {},
     "output_type": "execute_result"
    }
   ],
   "source": [
    "line_sales = pa.groupby('line')['sales'].sum()\n",
    "line_sales.sort_values(ascending = [False])"
   ]
  },
  {
   "cell_type": "code",
   "execution_count": 16,
   "id": "034a9b5d",
   "metadata": {},
   "outputs": [
    {
     "data": {
      "text/plain": [
       "3.7411443531965363"
      ]
     },
     "execution_count": 16,
     "metadata": {},
     "output_type": "execute_result"
    }
   ],
   "source": [
    "(211877-44689)/44689 \n",
    "#House brand sales is 4 times than off brand "
   ]
  },
  {
   "cell_type": "code",
   "execution_count": 17,
   "id": "a17b450e",
   "metadata": {},
   "outputs": [
    {
     "data": {
      "text/plain": [
       "array(['Tire Services'], dtype=object)"
      ]
     },
     "execution_count": 17,
     "metadata": {},
     "output_type": "execute_result"
    }
   ],
   "source": [
    "# house brand tires needs more services than off brand? \n",
    "ts =pa.loc[pa['line'] == 'Tire Services']\n",
    "ts['line'].unique()\n",
    "# not real, no different record as house or off. "
   ]
  },
  {
   "cell_type": "code",
   "execution_count": 18,
   "id": "ddc0e1e8",
   "metadata": {
    "scrolled": true
   },
   "outputs": [],
   "source": [
    "## house brand tires needs more services than off brand? \n",
    "#house_off = pa[(pa['line'] == 'House Brand') | (pa['line'] == 'Off Brand')]\n",
    "#house_off\n",
    "#this code meanless"
   ]
  },
  {
   "cell_type": "markdown",
   "id": "bb5fca76",
   "metadata": {},
   "source": [
    "# the tries sales is the reason of gap between #1 and #2"
   ]
  },
  {
   "cell_type": "code",
   "execution_count": 19,
   "id": "887b1436",
   "metadata": {},
   "outputs": [
    {
     "data": {
      "text/plain": [
       "major line\n",
       "Batteries         7109\n",
       "Brakes            4768\n",
       "Inspections        138\n",
       "Misc Service       299\n",
       "Oil               3908\n",
       "Parts              396\n",
       "Tire Services    10236\n",
       "Tires            71444\n",
       "Name: sales, dtype: int64"
      ]
     },
     "execution_count": 19,
     "metadata": {},
     "output_type": "execute_result"
    }
   ],
   "source": [
    "sh = pa[(pa['employee'] == 'Stanley Hudson')]\n",
    "sh.groupby('major line')['sales'].sum()"
   ]
  },
  {
   "cell_type": "code",
   "execution_count": 20,
   "id": "c680befa",
   "metadata": {
    "scrolled": true
   },
   "outputs": [
    {
     "data": {
      "text/plain": [
       "major line\n",
       "Batteries         3361\n",
       "Brakes            6362\n",
       "Inspections       2330\n",
       "Misc Service       936\n",
       "Oil               7557\n",
       "Parts             4214\n",
       "Tire Services     8270\n",
       "Tires            37623\n",
       "Name: sales, dtype: int64"
      ]
     },
     "execution_count": 20,
     "metadata": {},
     "output_type": "execute_result"
    }
   ],
   "source": [
    "jh = pa[(pa['employee'] == 'Jim Halpert')]\n",
    "jh.groupby('major line')['sales'].sum()"
   ]
  },
  {
   "cell_type": "code",
   "execution_count": null,
   "id": "ff508f44",
   "metadata": {},
   "outputs": [],
   "source": []
  }
 ],
 "metadata": {
  "kernelspec": {
   "display_name": "Python 3 (ipykernel)",
   "language": "python",
   "name": "python3"
  },
  "language_info": {
   "codemirror_mode": {
    "name": "ipython",
    "version": 3
   },
   "file_extension": ".py",
   "mimetype": "text/x-python",
   "name": "python",
   "nbconvert_exporter": "python",
   "pygments_lexer": "ipython3",
   "version": "3.9.12"
  }
 },
 "nbformat": 4,
 "nbformat_minor": 5
}
